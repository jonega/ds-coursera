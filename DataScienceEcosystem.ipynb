{
 "cells": [
  {
   "cell_type": "markdown",
   "id": "773bf73e-d562-40c8-b0a2-025d47ff180a",
   "metadata": {},
   "source": [
    "# Data Science Tools and Ecosystem"
   ]
  },
  {
   "cell_type": "markdown",
   "id": "b665b3ca-5523-40a0-b79b-eb78e9d005a1",
   "metadata": {},
   "source": [
    "In this notebook, Data Science Tools and Ecosystem are summarized.\n"
   ]
  },
  {
   "cell_type": "markdown",
   "id": "e3423f79-11a4-46cc-9d68-3441d5bc4a55",
   "metadata": {},
   "source": [
    "**Objectives:**\r\n",
    "\r\n",
    "- List popular languages for Data Science.\r\n",
    "- Introduce commonly used libraries in Data Science.\r\n",
    "- Showcase development environment tools for Data Science.\r\n",
    "- Provide examples of arithmetic expression evaluation in Python.\r\n",
    "- Demonstrate conversion of minutes to hours in Pthon.\r\n"
   ]
  },
  {
   "cell_type": "markdown",
   "id": "59bfd8e3-9965-4d92-bfd2-331aaf049ee9",
   "metadata": {},
   "source": [
    "Some of the popular languages that Data Scientists use are:\n",
    "\n",
    "1. Python\n",
    "2. R\n",
    "3. SQL"
   ]
  },
  {
   "cell_type": "markdown",
   "id": "1c0ebff8-4b82-457b-a8ec-9657faccdf5a",
   "metadata": {},
   "source": [
    "Some of the commonly used libraries used by Data Scientists include:\n",
    "\n",
    "1. NumPy\n",
    "2. Matplotlib\n",
    "3. Pandas"
   ]
  },
  {
   "cell_type": "markdown",
   "id": "6308a948-b843-4a1f-a704-5e88b8b9851d",
   "metadata": {},
   "source": [
    "| Data Science Tools |\n",
    "|--------------------|\n",
    "|Jupyter Notebook    |\n",
    "|Rstudio             |\n",
    "|Posgres             |"
   ]
  },
  {
   "cell_type": "markdown",
   "id": "fb14bcf0-1705-4f96-9753-93189fb375ee",
   "metadata": {},
   "source": [
    "### Arithmetic Expression Examples\n",
    "\n",
    "Below are a few examples of evaluating arithmetic expressions in Python."
   ]
  },
  {
   "cell_type": "code",
   "execution_count": 69,
   "id": "217de6dd-d46a-4ceb-8f43-de875424bbed",
   "metadata": {},
   "outputs": [
    {
     "data": {
      "text/plain": [
       "17"
      ]
     },
     "execution_count": 69,
     "metadata": {},
     "output_type": "execute_result"
    }
   ],
   "source": [
    "# This a simple arithmetic expression to multiply then add integers\n",
    "(3*4)+5"
   ]
  },
  {
   "cell_type": "code",
   "execution_count": 71,
   "id": "5ecbb6a4-8668-4625-9eb0-06097d2d78f2",
   "metadata": {},
   "outputs": [
    {
     "data": {
      "text/plain": [
       "3.3333333333333335"
      ]
     },
     "execution_count": 71,
     "metadata": {},
     "output_type": "execute_result"
    }
   ],
   "source": [
    "# This will convert 200 minutes to hours by dividing by 60.\n",
    "minutes = 200\n",
    "hours = minutes / 60\n",
    "hours"
   ]
  },
  {
   "cell_type": "markdown",
   "id": "353df3ac-c4ae-4ee2-847c-660fc6bd1079",
   "metadata": {},
   "source": [
    "## Author\n",
    "Jone Garmendia"
   ]
  },
  {
   "cell_type": "code",
   "execution_count": null,
   "id": "2946ea93-e757-4e65-ac51-756b8ff05198",
   "metadata": {},
   "outputs": [],
   "source": []
  }
 ],
 "metadata": {
  "kernelspec": {
   "display_name": "anaconda-panel-2023.05-py310",
   "language": "python",
   "name": "conda-env-anaconda-panel-2023.05-py310-py"
  },
  "language_info": {
   "codemirror_mode": {
    "name": "ipython",
    "version": 3
   },
   "file_extension": ".py",
   "mimetype": "text/x-python",
   "name": "python",
   "nbconvert_exporter": "python",
   "pygments_lexer": "ipython3",
   "version": "3.11.5"
  }
 },
 "nbformat": 4,
 "nbformat_minor": 5
}
